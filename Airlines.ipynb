{
 "cells": [
  {
   "cell_type": "markdown",
   "id": "76faae6d",
   "metadata": {},
   "source": [
    "## 1. Initial Setup and Library Imports\n",
    "\n",
    "Importing all necessary libraries and setting up the environment for our analysis."
   ]
  },
  {
   "cell_type": "code",
   "execution_count": 1,
   "id": "16ebe599",
   "metadata": {},
   "outputs": [
    {
     "name": "stderr",
     "output_type": "stream",
     "text": [
      "[nltk_data] Downloading package vader_lexicon to\n",
      "[nltk_data]     C:\\Users\\jorda\\AppData\\Roaming\\nltk_data...\n",
      "[nltk_data]   Package vader_lexicon is already up-to-date!\n",
      "[nltk_data] Downloading package punkt_tab to\n",
      "[nltk_data]     C:\\Users\\jorda\\AppData\\Roaming\\nltk_data...\n",
      "[nltk_data]   Package punkt_tab is already up-to-date!\n"
     ]
    },
    {
     "data": {
      "text/plain": [
       "True"
      ]
     },
     "execution_count": 1,
     "metadata": {},
     "output_type": "execute_result"
    }
   ],
   "source": [
    "# --- Core Data Manipulation and NLP ---\n",
    "import pandas as pd\n",
    "import nltk\n",
    "import numpy as np\n",
    "import requests\n",
    "nltk.download('vader_lexicon')\n",
    "from nltk.tokenize import sent_tokenize\n",
    "from nltk.sentiment.vader import SentimentIntensityAnalyzer\n",
    "\n",
    "# --- Data Visualization ---\n",
    "import matplotlib.pyplot as plt\n",
    "\n",
    "# --- Web Framework ---\n",
    "from flask import Flask, render_template, request\n",
    "import pandas as pd\n",
    "import requests\n",
    "from io import StringIO\n",
    "nltk.download('punkt_tab')\n"
   ]
  },
  {
   "cell_type": "markdown",
   "id": "cad60fa2",
   "metadata": {},
   "source": [
    "Declare variable for sentiment analysis\n",
    "\n",
    "Load dataset from github \n",
    "\n",
    "List special characters to be removed from dataset."
   ]
  },
  {
   "cell_type": "code",
   "execution_count": 2,
   "id": "822cf680",
   "metadata": {},
   "outputs": [],
   "source": [
    "sid = SentimentIntensityAnalyzer()\n",
    "\n",
    "\n",
    "# Load data\n",
    "url = 'https://raw.githubusercontent.com/DyanelLancea/Airline-Review-Sentiement-Analysis/refs/heads/master/airlines_review.csv'\n",
    "df = pd.read_csv(url)\n",
    "\n",
    "# List of special characters to remove\n",
    "removechar = [ '@', '#', '$', '%', '^', '&', '*', '(', ')',\n",
    "               '-', '_', '=', '+', '{', '}', '[', ']', '|',\n",
    "               '\\\\', ':', ';', '\"', \"'\", '<', '>', '?',\n",
    "                 '/', '~', '`', '✅ Trip Verified', 'Not Verified', 'Â Â', '✅ Verified Review']\n"
   ]
  },
  {
   "cell_type": "markdown",
   "id": "3745cc1c",
   "metadata": {},
   "source": [
    "Remove duplicates from dataset\n",
    "\n",
    "Drop rows of data that have missing values\n",
    "\n",
    "Replace mssing values with \"NA\" or \"Unknown\" if required\n",
    "\n",
    "Function to remove sepcial characters from required column of data and tidy up for analysis"
   ]
  },
  {
   "cell_type": "code",
   "execution_count": 3,
   "id": "f9723f6c",
   "metadata": {},
   "outputs": [],
   "source": [
    "\n",
    "# Remove duplicates\n",
    "df = df.drop_duplicates()\n",
    "# Remove rows with missing values\n",
    "df = df.dropna()\n",
    "\n",
    "# Replace missing values with NA or Unknown function\n",
    "def replace_missing_value(df):\n",
    "    for col in df.columns:\n",
    "        if df[col].dtype == 'O':  # Object type (string)\n",
    "            df[col] = df[col].fillna('Unknown')\n",
    "        else:\n",
    "            df[col] = df[col].fillna(\"NA\")\n",
    "    return \n",
    "\n",
    "# Remove special characters from specific columns function\n",
    "def remove_special_characters(df, removechar, char):\n",
    "    for char in removechar:\n",
    "        df['Airlines'] = df['Airlines'].str.replace(char, ' ', regex=False)\n",
    "        df['Text Content'] = df['Text Content'].str.replace(char, '', regex=False)\n",
    "    return df\n"
   ]
  },
  {
   "cell_type": "markdown",
   "id": "7020be91",
   "metadata": {},
   "source": [
    "Apply function replace missing values and remove speical characters\n",
    "\n",
    "Standardize text case for analysis and make text lower case for analyzation\n",
    "\n",
    "Remove unwanted leading spaces from all data column to make it neat and tidy"
   ]
  },
  {
   "cell_type": "code",
   "execution_count": 4,
   "id": "da7f6992",
   "metadata": {},
   "outputs": [],
   "source": [
    "\n",
    "# Apply data cleaning functions\n",
    "replace_missing_value(df)\n",
    "remove_special_characters(df, removechar, char='')\n",
    "\n",
    "# Standardize text case\n",
    "df['Airlines'] = df['Airlines'].str.title()\n",
    "df['Name'] = df['Name'].str.title()\n",
    "df['Text Content Lower Case'] = df['Text Content'].str.lower()\n",
    "\n",
    "# Remove leading spaces from the 'Name' column\n",
    "df['Airlines'] = df['Airlines'].str.lstrip()\n",
    "df['Name'] = df['Name'].str.lstrip()\n",
    "df['Date Published'] = df['Date Published'].str.lstrip()\n",
    "df['Text Content'] = df['Text Content'].str.lstrip()\n",
    "\n"
   ]
  },
  {
   "cell_type": "markdown",
   "id": "6bcd1f18",
   "metadata": {},
   "source": [
    "Export cleaned data to \"airlines_review_cleaned.csv\" for analyzation function"
   ]
  },
  {
   "cell_type": "code",
   "execution_count": 5,
   "id": "ef19e5cd",
   "metadata": {},
   "outputs": [],
   "source": [
    "# Save cleaned data to a new CSV file\n",
    "df.to_csv('airlines_review_cleaned.csv', index=False)\n",
    "\n",
    "# Display the cleaned DataFrame\n",
    "#print(df)"
   ]
  },
  {
   "cell_type": "markdown",
   "id": "11dca0a4",
   "metadata": {},
   "source": [
    "### Function to read and parse the AFINN lexicon, then loads it into a dictionary (afinn_dict)"
   ]
  },
  {
   "cell_type": "code",
   "execution_count": 6,
   "id": "83e831f8",
   "metadata": {},
   "outputs": [],
   "source": [
    "def load_afinn_lexicon(afinn_url):\n",
    "    afinn_dict = {} # initialise an empty dictionary to hold the AFINN lexicon\n",
    "    response = requests.get(afinn_url)  # download the file\n",
    "    try:\n",
    "        for line in response.text.splitlines():\n",
    "            line = line.strip()\n",
    "            if not line: # checks for and skips any empty lines in the file\n",
    "                continue\n",
    "            word, score = line.rsplit('\\t', 1) # splits the line into two parts\n",
    "            afinn_dict[word] = int(score) # adds the word and its score to the dict\n",
    "    except FileNotFoundError:\n",
    "        print(f\"File not found: {afinn_url}\")\n",
    "    return afinn_dict\n"
   ]
  },
  {
   "cell_type": "markdown",
   "id": "49b9066c",
   "metadata": {},
   "source": [
    "### Load the AFINN lexicon (provided sentiment dictionary) then print a sample of it"
   ]
  },
  {
   "cell_type": "code",
   "execution_count": 7,
   "id": "5fd5d376",
   "metadata": {},
   "outputs": [
    {
     "name": "stdout",
     "output_type": "stream",
     "text": [
      "AFINN dictionary loaded. Sample entries:\n",
      "[('abandon', -2), ('abandoned', -2), ('abandons', -2), ('abducted', -2), ('abduction', -2), ('abductions', -2), ('abhor', -3), ('abhorred', -3), ('abhorrent', -3), ('abhors', -3)]\n"
     ]
    }
   ],
   "source": [
    "afinn_url = \"https://raw.githubusercontent.com/fnielsen/afinn/master/afinn/data/AFINN-en-165.txt\"\n",
    "afinn_dict = load_afinn_lexicon(afinn_url)\n",
    "\n",
    "print(\"AFINN dictionary loaded. Sample entries:\")\n",
    "print(list(afinn_dict.items())[:10])  # show first 10 words and scores\n"
   ]
  },
  {
   "cell_type": "markdown",
   "id": "d77788de",
   "metadata": {},
   "source": [
    "### Function for sentence tokanization \n",
    "This function takes some text and returns a list of sentences. If you don’t give it a string, it safely returns an empty list instead of crashing."
   ]
  },
  {
   "cell_type": "code",
   "execution_count": 8,
   "id": "6ae96bd4",
   "metadata": {},
   "outputs": [],
   "source": [
    "def tokenize_sentences(text):\n",
    "    if not isinstance(text, str):\n",
    "        return []\n",
    "    return sent_tokenize(text)"
   ]
  },
  {
   "cell_type": "markdown",
   "id": "85552f86",
   "metadata": {},
   "source": [
    "### Function to calculate sentiment and normalization"
   ]
  },
  {
   "cell_type": "code",
   "execution_count": 9,
   "id": "a6035bde",
   "metadata": {},
   "outputs": [],
   "source": [
    "def calculate_sentiment_score(sentences, afinn_dict):\n",
    "    score = 0\n",
    "    words = sentences.lower().split()    # breaks down the sentence into individual words\n",
    "    for word in words:  # goes through each word in the list \n",
    "        score += afinn_dict.get(word, 0)    # looks up each word and adds the score\n",
    "    return score\n",
    "\n",
    "def normalize_score(score, text_length):\n",
    "    if text_length == 0:    # sentences with no words will return a score of 0 (preventing an error of dividing by zero)\n",
    "        return 0\n",
    "    # normalization to get a score per word, then clamping to [-1, 1]\n",
    "    normalized = score / text_length    # calculates the average score per word\n",
    "    return max(-1.0, min(1.0, normalized))  \n",
    "    # makes sure the score doesn't go over 1.0 and below -1.0. \n",
    "    # (if the score is -2.5, this will return -1.0)"
   ]
  },
  {
   "cell_type": "markdown",
   "id": "1feb2cf7",
   "metadata": {},
   "source": [
    "### Function to find the extreme sentences"
   ]
  },
  {
   "cell_type": "code",
   "execution_count": 10,
   "id": "03342e9a",
   "metadata": {},
   "outputs": [],
   "source": [
    "def find_extreme_sentences(sentences, afinn_dict):\n",
    "    \n",
    "    if not sentences:   # to prevent errors if the list is empty\n",
    "        return None, None\n",
    "\n",
    "    # initialises an empty list to hold sentences and their scores\n",
    "    scored_sentences = []\n",
    "    for sent in sentences:\n",
    "        score = calculate_sentiment_score(sent, afinn_dict)     # uses the sentiment score function\n",
    "        normalized_score = normalize_score(score, len(sent.split()))    # uses the normalization function\n",
    "        scored_sentences.append({'sentence': sent, 'score': normalized_score})\n",
    "\n",
    "    # find the sentences with max and min normalized scores\n",
    "    most_positive = max(scored_sentences, key=lambda x: x['score'])\n",
    "    most_negative = min(scored_sentences, key=lambda x: x['score'])\n",
    "    \n",
    "    return most_positive, most_negative"
   ]
  },
  {
   "cell_type": "markdown",
   "id": "87c05a78",
   "metadata": {},
   "source": [
    "### Sliding Window Function to find the most positive and negative paragraphs.\n",
    "\n",
    "Using a window size lets us \"slide\" a focus area over the text. The window's score changes as it moves, so it can detect specific pockets of strong emotion(positive/negative).\n",
    "\n",
    "When the window is over a section with very positive sentences, it will get a high score. When it slides over the negative section, it will get a very low score.\n",
    "\n",
    "This give us a much more detailed and accurate picture of the sentiment throughout the text. It helps us pinpoint exactly where the most positive and negative opinions are located, rather than just getting a single, overall average."
   ]
  },
  {
   "cell_type": "code",
   "execution_count": 11,
   "id": "26728f44",
   "metadata": {},
   "outputs": [],
   "source": [
    "def sliding_window_analysis_words(text, afinn_dict, window_size=10):\n",
    "    \"\"\"\n",
    "    Applies a sliding window to find the most positive and negative text segments,\n",
    "    based on a word-level window size.\n",
    "    \n",
    "    Args:\n",
    "        text (str): The full text to analyze.\n",
    "        afinn_dict (dict): The AFINN sentiment lexicon.\n",
    "        window_size (int): The number of words to include in each window.\n",
    "\n",
    "    Returns:\n",
    "        tuple: A tuple containing the most positive and most negative paragraphs.\n",
    "    \"\"\"\n",
    "    if not text:\n",
    "        return None, None\n",
    "        \n",
    "    words = text.lower().split()\n",
    "    if len(words) < window_size:\n",
    "        return None, None\n",
    "    \n",
    "    scored_windows = []\n",
    "    # Slide the window across the words\n",
    "    for i in range(len(words) - window_size + 1):\n",
    "        window = words[i:i + window_size]\n",
    "        paragraph_text = ' '.join(window)\n",
    "        \n",
    "        # Calculate score for the paragraph window\n",
    "        score = calculate_sentiment_score(paragraph_text, afinn_dict)\n",
    "        normalized_score = normalize_score(score, len(paragraph_text.split()))\n",
    "\n",
    "        scored_windows.append({'paragraph': paragraph_text, 'score': normalized_score})\n",
    "\n",
    "    if not scored_windows:\n",
    "        return None, None\n",
    "\n",
    "    # Find the paragraphs with max and min scores\n",
    "    most_positive_paragraph = max(scored_windows, key=lambda x: x['score'])\n",
    "    most_negative_paragraph = min(scored_windows, key=lambda x: x['score'])\n",
    "    \n",
    "    return most_positive_paragraph, most_negative_paragraph\n",
    "\n"
   ]
  },
  {
   "cell_type": "markdown",
   "id": "3d0820f4",
   "metadata": {},
   "source": [
    "Test"
   ]
  },
  {
   "cell_type": "code",
   "execution_count": 12,
   "id": "909b1b67",
   "metadata": {},
   "outputs": [],
   "source": [
    "#Apply tonkenize function into Dataframe\n",
    "df['Text Content Tokenized'] = df['Text Content'].apply(tokenize_sentences)\n",
    "\n",
    "#Apply Sentiment scoring function into Dataframe\n",
    "df['Sentiment Score'] = df.apply(lambda x: calculate_sentiment_score(x['Text Content'],afinn_dict), axis=1)\n",
    "\n",
    "#Apply normalize function to Dataframe\n",
    "df['Normalized Sentiment Score'] = df.apply(lambda x: normalize_score(x['Sentiment Score'],len(x[\"Text Content\"].split())), axis=1)\n",
    "\n",
    "#Apply finding extreme sentences function to Dataframe\n",
    "df['Extreme Senctences'] = df.apply(lambda x: find_extreme_sentences(x['Text Content Tokenized'],afinn_dict), axis=1)\n",
    "\n",
    "#Creating Columns for Most and Least Extreme Sentences\n",
    "df['Most Positive Senctence'] = df['Extreme Senctences'].apply(lambda x: x[0]['sentence'])\n",
    "df['Most Positive Senctence Score'] = df['Extreme Senctences'].apply(lambda x: x[0]['score'])\n",
    "df['Most Negative Senctence'] = df['Extreme Senctences'].apply(lambda x: x[1]['sentence'])\n",
    "df['Most Negative Senctence Score'] = df['Extreme Senctences'].apply(lambda x: x[1]['score'])\n",
    "\n",
    "#Applying Sliding Window to Dataframe\n",
    "df['Sliding Window Results'] = df.apply(lambda x: sliding_window_analysis_words(x['Text Content'],afinn_dict, window_size=10), axis=1)\n",
    "\n",
    "#Creating Columns for Most Positive and Negative lines of words from sliding window analysis\n",
    "df['Most Positive Line'] = df['Sliding Window Results'].apply(lambda x: x[0]['paragraph'])\n",
    "df['Most Positive Line Score'] = df['Sliding Window Results'].apply(lambda x: x[0]['score'])\n",
    "df['Most Negative Line'] = df['Sliding Window Results'].apply(lambda x: x[1]['paragraph'])\n",
    "df['Most Negative Line Score'] = df['Sliding Window Results'].apply(lambda x: x[1]['score'])\n",
    "\n",
    "#Output results into csv\n",
    "df.to_csv('airlines_review_analysis.csv', index=False)\n"
   ]
  },
  {
   "cell_type": "markdown",
   "id": "c6ff132b",
   "metadata": {},
   "source": [
    "### Results\n",
    "\n"
   ]
  },
  {
   "cell_type": "markdown",
   "id": "6a3a7fd1",
   "metadata": {},
   "source": [
    "#### Model Evaulation"
   ]
  },
  {
   "cell_type": "markdown",
   "id": "729b896d",
   "metadata": {},
   "source": [
    "We shall be evaluating our sentiment analysis based on 4 metrics Accuracy, Precision, Recall and F1 Score."
   ]
  },
  {
   "cell_type": "code",
   "execution_count": 13,
   "id": "97b2c070",
   "metadata": {},
   "outputs": [
    {
     "name": "stdout",
     "output_type": "stream",
     "text": [
      "Accuracy of Sentiment Analysis is 0.8044812133746984\n",
      "Precision of Sentiment Analysis is 0.7771851851851852\n",
      "Recall of Sentiment Analysis is 0.9313528228192686\n",
      "F1 Score of Sentiment Analysis is 0.8473134489070744\n"
     ]
    }
   ],
   "source": [
    "#Function to convert our analysis scores from numbers to postive or negative\n",
    "def score_postive_negative(score):\n",
    "    if score < -0:\n",
    "        return \"Negative\"\n",
    "    elif score >= 0:\n",
    "        return \"Postive\"\n",
    "    \n",
    "#Function to chnage airline review ratings to postive or negative\n",
    "def rating_postive_negative(rating):\n",
    "    if rating <= 5:\n",
    "        return \"Negative\"\n",
    "    elif rating >= 6:\n",
    "        return \"Postive\"\n",
    "\n",
    "#Funtion to check if your analysis is True or False \n",
    "def determine_correct_prediction(actual, pred):\n",
    "    if actual == pred:\n",
    "        return True\n",
    "    else:\n",
    "        return False\n",
    "    \n",
    "#Function to calculate accuracy\n",
    "def calculate_aaccuracy(whether_correct_pred):\n",
    "    return sum(whether_correct_pred)/len(whether_correct_pred)\n",
    "\n",
    "#Funtion to calculate confusion matrix\n",
    "def calculate_confusion_matrix(actual, pred):\n",
    "    if actual == 'Postive' and pred == 'Postive':\n",
    "        return 'TP'\n",
    "    elif actual == 'Negative' and pred == 'Postive':\n",
    "        return 'FP'\n",
    "    elif actual == 'Negative' and pred == 'Negative':\n",
    "        return 'TN'\n",
    "    elif actual == 'Postive' and pred == 'Negative':\n",
    "        return 'FN'\n",
    "\n",
    "#Function to calculate precision\n",
    "def calculate_precision(confusion_matric):\n",
    "    return confusion_matric.count('TP')/(confusion_matric.count('TP')+confusion_matric.count('FP'))\n",
    "\n",
    "#Funtion to calculate Recall\n",
    "def calculate_recall(confusion_matric):\n",
    "    return confusion_matric.count('TP')/(confusion_matric.count('TP')+confusion_matric.count('FN'))\n",
    "\n",
    "#Applying the all the functions to our datafraame\n",
    "df['score_postive_negative'] = df.apply(lambda x: score_postive_negative(x['Normalized Sentiment Score']), axis=1)\n",
    "df['rating_postive_negative'] = df.apply(lambda x: rating_postive_negative(x['Rating']), axis=1)\n",
    "df['whether_correct_pred'] = df.apply(lambda x: determine_correct_prediction(x['rating_postive_negative'],x[\"score_postive_negative\"]), axis=1)\n",
    "df['confusion_matrix'] = df.apply(lambda x: calculate_confusion_matrix(x['rating_postive_negative'],x[\"score_postive_negative\"]), axis=1)\n",
    "recall = calculate_recall(df['confusion_matrix'].tolist())\n",
    "precision = calculate_precision(df['confusion_matrix'].tolist())\n",
    "\n",
    "#Funtion to Calculate F1 Score\n",
    "def calculate_F1score(precision,recall):\n",
    "    return 2 * (precision * recall) / (precision + recall)\n",
    "\n",
    "#Print out the results\n",
    "print('Accuracy of Sentiment Analysis is',calculate_aaccuracy(df['whether_correct_pred']))\n",
    "print(f'Precision of Sentiment Analysis is {precision}')\n",
    "print(f'Recall of Sentiment Analysis is {recall}')\n",
    "print('F1 Score of Sentiment Analysis is',calculate_F1score(precision,recall))"
   ]
  },
  {
   "cell_type": "markdown",
   "id": "84dff12b",
   "metadata": {},
   "source": [
    "Usually, sentiment classification of accuracy between 80 to 85% is a good benchmark. Therefore, we can say our analysis just about hits thaat mark at 80.4%. However, accuracy may not be the most aaccurate metric to test our analysis as it can be misledding for uneven datasets.\n",
    "\n",
    "With a precision of 77.7%, the model correctly identified most of the reviews it labeled as positive. However, this also indicates that a small proportion of negative reviews were incorrectly predicted as positive which may be lead to some airlines getting better reviews than expected.\n",
    "\n",
    "The recall score of 93.1% demonstrates that the model successfully identified the vast majority of actual positive reviews and would allow us to tell if the airline is truly good based on the reviews.\n",
    "\n",
    "The F1 score of 84.7% provides a balanced measure of performance, reflecting the model’s ability to maintain both high recall and reasonable precision.\n"
   ]
  },
  {
   "cell_type": "markdown",
   "id": "bf25bfa5",
   "metadata": {},
   "source": [
    "### Insights into our results"
   ]
  },
  {
   "cell_type": "markdown",
   "id": "bbeb8585",
   "metadata": {},
   "source": [
    "This calculates the mean normalized sentiment score for each airline and visualizes the results using a horizontal bar chart."
   ]
  },
  {
   "cell_type": "code",
   "execution_count": 14,
   "id": "0e9b0702",
   "metadata": {},
   "outputs": [
    {
     "data": {
      "image/png": "[encoded data removed]",
      "text/plain": [
       "<Figure size 640x480 with 1 Axes>"
      ]
     },
     "metadata": {},
     "output_type": "display_data"
    }
   ],
   "source": [
    "df_mean =  df.groupby('Airlines')['Normalized Sentiment Score'].agg('mean').sort_values() \n",
    "\n",
    "fig, ax = plt.subplots()\n",
    "\n",
    "bx = ax.barh(df_mean.index, df_mean.values,label=df_mean.values)\n",
    "ax.bar_label(bx, fmt='%.4f')\n",
    "ax.set_title('Average Sentiment Score by Airline')\n",
    "\n",
    "plt.show()"
   ]
  },
  {
   "cell_type": "markdown",
   "id": "c1b93a58",
   "metadata": {},
   "source": [
    "This generates a boxplot to compare the spread and distribution of normalized sentiment scores across different airlines."
   ]
  },
  {
   "cell_type": "code",
   "execution_count": 15,
   "id": "78ac6eca",
   "metadata": {},
   "outputs": [
    {
     "data": {
      "text/plain": [
       "Text(0.5, 1.0, 'Boxplot of Sentment Scores by Airline')"
      ]
     },
     "execution_count": 15,
     "metadata": {},
     "output_type": "execute_result"
    },
    {
     "data": {
      "image/png": "[encoded data removed]",
      "text/plain": [
       "<Figure size 640x480 with 1 Axes>"
      ]
     },
     "metadata": {},
     "output_type": "display_data"
    }
   ],
   "source": [
    "ax = df.boxplot(column='Normalized Sentiment Score',by='Airlines',rot=90,grid=False)\n",
    "ax.set_title('Boxplot of Sentment Scores by Airline')"
   ]
  },
  {
   "cell_type": "markdown",
   "id": "ecba4b3c",
   "metadata": {},
   "source": [
    "### Arbitrary-Length Span\n",
    "\n",
    "Find the most positive and most negative contiguous sentence spans (any length) and return the exact sentences that compose each span."
   ]
  },
  {
   "cell_type": "code",
   "execution_count": 16,
   "id": "5c661d60",
   "metadata": {},
   "outputs": [],
   "source": [
    "# ---------- NEW: helpers for arbitrary-length best segments (by sentences) ----------\n",
    "from math import inf\n",
    "\n",
    "def kadane_with_indices(arr):\n",
    "    \"\"\"Max subarray sum with start/end indices.\"\"\"\n",
    "    if not arr:\n",
    "        return 0, -1, -1\n",
    "    best_sum = -inf\n",
    "    cur_sum = 0\n",
    "    best_l = best_r = cur_l = 0\n",
    "    for i, x in enumerate(arr):\n",
    "        if cur_sum <= 0:\n",
    "            cur_sum = x\n",
    "            cur_l = i\n",
    "        else:\n",
    "            cur_sum += x\n",
    "        if cur_sum > best_sum:\n",
    "            best_sum, best_l, best_r = cur_sum, cur_l, i\n",
    "    return best_sum, best_l, best_r\n",
    "\n",
    "def best_sentence_span(text, afinn_dict):\n",
    "    \"\"\"\n",
    "    Returns the most positive and most negative continuous sentence spans.\n",
    "    Each span includes: text, score (sum), start index, end index, and the list of sentences.\n",
    "    \"\"\"\n",
    "    sents = [s.strip() for s in sent_tokenize(text or \"\") if s.strip()]\n",
    "    if not sents:\n",
    "        return None, None\n",
    "\n",
    "    # raw (unnormalized) AFINN sum per sentence\n",
    "    sent_scores = [calculate_sentiment_score(s, afinn_dict) for s in sents]\n",
    "\n",
    "    # most positive span\n",
    "    pos_sum, pos_l, pos_r = kadane_with_indices(sent_scores)\n",
    "\n",
    "    # most negative span = max subarray on negated scores, then flip sign back\n",
    "    neg_sum_neg, neg_l, neg_r = kadane_with_indices([-x for x in sent_scores])\n",
    "    neg_sum = -neg_sum_neg\n",
    "\n",
    "    pos_span = {\n",
    "        \"text\": \" \".join(sents[pos_l:pos_r+1]),\n",
    "        \"score\": float(pos_sum),\n",
    "        \"start\": int(pos_l),\n",
    "        \"end\": int(pos_r),\n",
    "        \"sentences\": sents[pos_l:pos_r+1],\n",
    "    }\n",
    "    neg_span = {\n",
    "        \"text\": \" \".join(sents[neg_l:neg_r+1]),\n",
    "        \"score\": float(neg_sum),\n",
    "        \"start\": int(neg_l),\n",
    "        \"end\": int(neg_r),\n",
    "        \"sentences\": sents[neg_l:neg_r+1],\n",
    "    }\n",
    "    return pos_span, neg_span\n",
    "# ---------- end helpers ----------"
   ]
  },
  {
   "cell_type": "code",
   "execution_count": 17,
   "id": "e50463f9",
   "metadata": {},
   "outputs": [
    {
     "name": "stdout",
     "output_type": "stream",
     "text": [
      " * Serving Flask app '__main__'\n",
      " * Debug mode: on\n"
     ]
    },
    {
     "name": "stderr",
     "output_type": "stream",
     "text": [
      "WARNING: This is a development server. Do not use it in a production deployment. Use a production WSGI server instead.\n",
      " * Running on http://127.0.0.1:5002\n",
      "Press CTRL+C to quit\n",
      "127.0.0.1 - - [26/Sep/2025 18:36:48] \"GET / HTTP/1.1\" 200 -\n",
      "127.0.0.1 - - [26/Sep/2025 18:36:48] \"GET /static/style.css HTTP/1.1\" 304 -\n",
      "127.0.0.1 - - [26/Sep/2025 18:36:48] \"GET /static/script.js HTTP/1.1\" 304 -\n",
      "127.0.0.1 - - [26/Sep/2025 18:36:56] \"POST / HTTP/1.1\" 200 -\n",
      "127.0.0.1 - - [26/Sep/2025 18:36:56] \"GET /static/style.css HTTP/1.1\" 304 -\n",
      "127.0.0.1 - - [26/Sep/2025 18:36:56] \"GET /static/script.js HTTP/1.1\" 304 -\n"
     ]
    }
   ],
   "source": [
    "app = Flask(__name__, template_folder='templates')\n",
    "\n",
    "# URL of the CSV file\n",
    "#url = 'https://raw.githubusercontent.com/DyanelLancea/Airline-Review-Sentiement-Analysis/refs/heads/master/airlines_review.csv'\n",
    "\n",
    "# Fetch and load the CSV data\n",
    "response = requests.get(url)\n",
    "csv_data = StringIO(response.text)\n",
    "#df = pd.read_csv(csv_data)\n",
    "\n",
    "from nltk.tokenize import sent_tokenize\n",
    "\n",
    "# Apply AFINN sentiment analysis\n",
    "df[\"sentiment_score\"] = df[\"Text Content Lower Case\"].apply(\n",
    "    lambda x: normalize_score(\n",
    "        calculate_sentiment_score(str(x), afinn_dict),\n",
    "        len(str(x).split())\n",
    "    )\n",
    ")\n",
    "\n",
    "# Convert 'Date' column to datetime to facilitate month selection\n",
    "df['Date Published'] = pd.to_datetime(df['Date Published'])\n",
    "\n",
    "# Extract available airlines and months for the dropdowns\n",
    "airlines = df['Airlines'].unique().tolist()\n",
    "months = df['Date Published'].dt.month_name().unique().tolist()\n",
    "\n",
    "\n",
    "@app.route('/', methods=['GET', 'POST'])\n",
    "def index():\n",
    "    selected_airline = None\n",
    "    selected_month = None\n",
    "    t_reviews = []\n",
    "    b_reviews = []\n",
    "    positive_window = None\n",
    "    negative_window = None\n",
    "    arb_pos = None\n",
    "    arb_neg = None\n",
    "    top_airlines = []  # For top airlines across all months\n",
    "    top_airlines_month = []  # For top airlines based on the selected month\n",
    "\n",
    "\n",
    "    if request.method == 'POST':\n",
    "        selected_airline = request.form.get('airline')\n",
    "        selected_month = request.form.get('month')\n",
    "\n",
    "        # ** If \"All\" is selected, show top airlines across all months **\n",
    "        if selected_month == 'All':\n",
    "            # Calculate top 3 airlines across all months (no filtering by month)\n",
    "            avg_scores_all = df.groupby('Airlines')['Normalized Sentiment Score'].mean()\n",
    "            top_airlines = avg_scores_all.sort_values(ascending=False).head(3).items()\n",
    "\n",
    "            # Show reviews for selected airline (if any)\n",
    "            if selected_airline:\n",
    "                filtered_df = df[df['Airlines'] == selected_airline]\n",
    "            else:\n",
    "                filtered_df = df  # Show all reviews if no specific airline is selected\n",
    "\n",
    "        else:\n",
    "            # ** If a specific month is selected, show reviews for that month **\n",
    "            filtered_df = df[(df['Airlines'] == selected_airline) & \n",
    "                             (df['Date Published'].dt.month_name() == selected_month)]\n",
    "\n",
    "            # Calculate top 3 airlines for the selected month\n",
    "            monthly_data = df[df['Date Published'].dt.month_name() == selected_month]\n",
    "            avg_scores_month = monthly_data.groupby('Airlines')['Normalized Sentiment Score'].mean()\n",
    "            top_airlines_month = avg_scores_month.sort_values(ascending=False).head(3).items()\n",
    "\n",
    "            # Show reviews for the selected airline (if any)\n",
    "            if selected_airline:\n",
    "                filtered_df = df[df['Airlines'] == selected_airline]\n",
    "\n",
    "        # Sort reviews by sentiment score for top and bottom reviews\n",
    "        top_reviews_df = filtered_df.sort_values(by='Sentiment Score', ascending=False)\n",
    "        bottom_reviews_df = filtered_df.sort_values(by='Sentiment Score', ascending=True)\n",
    "\n",
    "        top_reviews = top_reviews_df.head(3)\n",
    "        bottom_reviews = bottom_reviews_df.head(3)\n",
    "\n",
    "        t_reviews = top_reviews[['Text Content', 'Sentiment Score']].values.tolist()\n",
    "        b_reviews = bottom_reviews[['Text Content', 'Sentiment Score']].values.tolist()\n",
    "\n",
    "        # Sliding window analysis for positive and negative text segments\n",
    "        all_text = ' '.join(filtered_df['Text Content'].dropna().astype(str).tolist())\n",
    "        pos, neg = sliding_window_analysis_words(all_text, afinn_dict, window_size=10)\n",
    "\n",
    "        positive_window = pos  # {'paragraph': ..., 'score': ...}\n",
    "        negative_window = neg\n",
    "  \n",
    "    \n",
    "    return render_template('index.html', airlines=airlines, months=months, t_reviews=t_reviews, b_reviews=b_reviews, selected_airline=selected_airline, selected_month=selected_month, positive_window=positive_window,\n",
    "        negative_window=negative_window,pos_segment=arb_pos, neg_segment=arb_neg, top_airlines=top_airlines,\n",
    "                                  top_airlines_month=top_airlines_month)\n",
    "\n",
    "if __name__ == \"__main__\":\n",
    "    app.run(debug=True, host='127.0.0.1', port=5002, use_reloader=False)\n"
   ]
  }
 ],
 "metadata": {
  "kernelspec": {
   "display_name": "base",
   "language": "python",
   "name": "python3"
  },
  "language_info": {
   "codemirror_mode": {
    "name": "ipython",
    "version": 3
   },
   "file_extension": ".py",
   "mimetype": "text/x-python",
   "name": "python",
   "nbconvert_exporter": "python",
   "pygments_lexer": "ipython3",
   "version": "3.10.9"
  }
 },
 "nbformat": 4,
 "nbformat_minor": 5
}
