{
 "cells": [
  {
   "cell_type": "code",
   "execution_count": 3,
   "id": "16ebe599",
   "metadata": {},
   "outputs": [
    {
     "name": "stdout",
     "output_type": "stream",
     "text": [
      "              Name  Location Date Published  \\\n",
      "0  Harry Aronowicz      2025     2025-08-31   \n",
      "1  Harry Aronowicz      2025     2025-08-31   \n",
      "2     Sreina Ilyas      2025     2025-08-31   \n",
      "3        W Johnson      2025     2025-08-28   \n",
      "4         J Kamara      2025     2025-08-25   \n",
      "\n",
      "                                        Text Content       Seat Type  \\\n",
      "0  ✅ Trip Verified |   Excellent flight. Super cr...  Boeing 777-200   \n",
      "1  ✅ Trip Verified |  Flight left and arrived on ...            A319   \n",
      "2  Not Verified |    My friend and I were helped ...            A320   \n",
      "3  ✅ Trip Verified | As a regular flier in this r...         A320neo   \n",
      "4  ✅ Trip Verified |   I've been a regular travel...        Business   \n",
      "\n",
      "   Seat Comfort  Cabin Staff Service  Food & Beverages  \\\n",
      "0           NaN                  NaN               NaN   \n",
      "1           NaN                  NaN               NaN   \n",
      "2           NaN                  NaN               NaN   \n",
      "3           NaN                  NaN               NaN   \n",
      "4           NaN                  NaN               NaN   \n",
      "\n",
      "   Inflight Entertainment  Value For Money Recommended         Airlines  \\\n",
      "0                     NaN              5.0       False  british_airways   \n",
      "1                     NaN              5.0       False  british_airways   \n",
      "2                     NaN              3.0       False  british_airways   \n",
      "3                     NaN              1.0       False  british_airways   \n",
      "4                     1.0              NaN         NaN  british_airways   \n",
      "\n",
      "   Ground Service  Wifi & Connectivity  \n",
      "0             NaN                  NaN  \n",
      "1             NaN                  NaN  \n",
      "2             NaN                  NaN  \n",
      "3             NaN                  NaN  \n",
      "4             NaN                  NaN  \n"
     ]
    }
   ],
   "source": [
    "import pandas as pd\n",
    "\n",
    "url = 'https://raw.githubusercontent.com/DyanelLancea/Airline-Review-Sentiement-Analysis/refs/heads/master/airlines_review.csv'\n",
    "df = pd.read_csv(url, index_col=0)\n",
    "print(df.head(5))"
   ]
  }
 ],
 "metadata": {
  "kernelspec": {
   "display_name": "Python 3",
   "language": "python",
   "name": "python3"
  },
  "language_info": {
   "codemirror_mode": {
    "name": "ipython",
    "version": 3
   },
   "file_extension": ".py",
   "mimetype": "text/x-python",
   "name": "python",
   "nbconvert_exporter": "python",
   "pygments_lexer": "ipython3",
   "version": "3.11.9"
  }
 },
 "nbformat": 4,
 "nbformat_minor": 5
}
