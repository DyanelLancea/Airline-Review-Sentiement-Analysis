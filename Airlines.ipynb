{
 "cells": [
  {
   "cell_type": "code",
   "execution_count": 45,
   "id": "16ebe599",
   "metadata": {},
   "outputs": [
    {
     "name": "stderr",
     "output_type": "stream",
     "text": [
      "[nltk_data] Downloading package vader_lexicon to\n",
      "[nltk_data]     C:\\Users\\sherm\\AppData\\Roaming\\nltk_data...\n",
      "[nltk_data]   Package vader_lexicon is already up-to-date!\n"
     ]
    },
    {
     "name": "stdout",
     "output_type": "stream",
     "text": [
      "              Airlines             Name Date Published  \\\n",
      "0        Qatar Airways     Romana Malik     2025-09-07   \n",
      "1        Qatar Airways           J Raiz     2025-09-02   \n",
      "2        Qatar Airways       Iman Yusuf     2025-09-01   \n",
      "3        Qatar Airways     Ronald Zwart     2025-08-26   \n",
      "4        Qatar Airways  Dmitriy Berezin     2025-08-21   \n",
      "...                ...              ...            ...   \n",
      "14586  Hainan Airlines        J Depaepe     2010-01-19   \n",
      "14587  Hainan Airlines  Pieter D'Hamers     2010-01-10   \n",
      "14588  Hainan Airlines           Y Chen     2010-01-09   \n",
      "14589  Hainan Airlines          A Smith     2009-12-16   \n",
      "14590  Hainan Airlines    Richard Borst     2009-12-11   \n",
      "\n",
      "                                            Text Content  \n",
      "0      we choose our seats when booking and they chan...  \n",
      "1      initially i was supposed to be traveling with ...  \n",
      "2      i want to sincerely thank qatar airways for th...  \n",
      "3      boarding was efficient friendly personable wel...  \n",
      "4      when booking the flight wa shown as a qsuite b...  \n",
      "...                                                  ...  \n",
      "14586  brupek business class 6 hour delay in brussels...  \n",
      "14587  brupekbru new a330 good and friendly service v...  \n",
      "14588  beijingguangzhou b737800 in economy despite th...  \n",
      "14589  xiy to ctu on boeing 737800 in economy flight ...  \n",
      "14590  beijing to xian on hainan airlines very good s...  \n",
      "\n",
      "[14525 rows x 4 columns]\n"
     ]
    }
   ],
   "source": [
    "import pandas as pd\n",
    "import nltk\n",
    "nltk.download('vader_lexicon')\n",
    "from nltk.sentiment.vader import SentimentIntensityAnalyzer\n",
    "\n",
    "sid = SentimentIntensityAnalyzer()\n",
    "\n",
    "# Load data\n",
    "url = 'https://raw.githubusercontent.com/DyanelLancea/Airline-Review-Sentiement-Analysis/refs/heads/master/airlines_review.csv'\n",
    "df = pd.read_csv(url, index_col=0)\n",
    "\n",
    "# List of special characters to remove\n",
    "removechar = ['!', '@', '#', '$', '%', '^', '&', '*', '(', ')',\n",
    "               '-', '_', '=', '+', '{', '}', '[', ']', '|',\n",
    "               '\\\\', ':', ';', '\"', \"'\", '<', '>', ',', '.', '?',\n",
    "                 '/', '~', '`', '✅ Trip Verified', 'Not Verified', 'Â Â']\n",
    "\n",
    "# Remove duplicates\n",
    "df = df.drop_duplicates()\n",
    "\n",
    "# Replace missing values with NA or Unknown function\n",
    "def replace_missing_value(df):\n",
    "    for col in df.columns:\n",
    "        if df[col].dtype == 'O':  # Object type (string)\n",
    "            df[col] = df[col].fillna('Unknown')\n",
    "        else:\n",
    "            df[col] = df[col].fillna(\"NA\")\n",
    "    return \n",
    "\n",
    "# Remove special characters from specific columns function\n",
    "def remove_special_characters(df, removechar, char):\n",
    "    for char in removechar:\n",
    "        df['Airlines'] = df['Airlines'].str.replace(char, ' ', regex=False)\n",
    "        df['Text Content'] = df['Text Content'].str.replace(char, '', regex=False)\n",
    "    return df\n",
    "\n",
    "# Apply data cleaning functions\n",
    "replace_missing_value(df)\n",
    "remove_special_characters(df, removechar, char='')\n",
    "\n",
    "# Standardize text case\n",
    "df['Airlines'] = df['Airlines'].str.title()\n",
    "df['Name'] = df['Name'].str.title()\n",
    "df['Text Content'] = df['Text Content'].str.lower()\n",
    "\n",
    "# Remove leading spaces from the 'Name' column\n",
    "df['Airlines'] = df['Airlines'].str.lstrip()\n",
    "df['Name'] = df['Name'].str.lstrip()\n",
    "df['Date Published'] = df['Date Published'].str.lstrip()\n",
    "df['Text Content'] = df['Text Content'].str.lstrip()\n",
    "\n",
    "# Save cleaned data to a new CSV file\n",
    "df.to_csv('airlines_review_cleaned.csv', index=False)\n",
    "\n",
    "# Display the cleaned DataFrame\n",
    "print(df)\n"
   ]
  },
  {
   "cell_type": "code",
   "execution_count": 46,
   "id": "83e831f8",
   "metadata": {},
   "outputs": [],
   "source": [
    "def load_afinn_local(filepath):\n",
    "    \"\"\"\n",
    "    Loads the AFINN-en-165.txt lexicon from a local file.\n",
    "    Returns a dict {word: score}.\n",
    "    \"\"\"\n",
    "    afinn_dict = {}\n",
    "    try:\n",
    "        with open(filepath, encoding=\"utf-8\") as f:\n",
    "            for line in f:\n",
    "                line = line.strip()\n",
    "                if not line:\n",
    "                    continue\n",
    "                word, score = line.rsplit('\\t', 1)\n",
    "                afinn_dict[word] = int(score)\n",
    "    except FileNotFoundError:\n",
    "        print(f\"File not found: {filepath}\")\n",
    "    return afinn_dict"
   ]
  },
  {
   "cell_type": "code",
   "execution_count": 50,
   "id": "a6035bde",
   "metadata": {},
   "outputs": [
    {
     "name": "stdout",
     "output_type": "stream",
     "text": [
      "AFINN dictionary loaded. Sample entries:\n",
      "[('abandon', -2), ('abandoned', -2), ('abandons', -2), ('abducted', -2), ('abduction', -2), ('abductions', -2), ('abhor', -3), ('abhorred', -3), ('abhorrent', -3), ('abhors', -3)]\n"
     ]
    }
   ],
   "source": [
    "afinn_url = \"https://raw.githubusercontent.com/fnielsen/afinn/master/afinn/data/AFINN-111.txt\"\n",
    "afinn_dict = load_afinn_lexicon(afinn_url)\n",
    "\n",
    "print(\"AFINN dictionary loaded. Sample entries:\")\n",
    "print(list(afinn_dict.items())[:10])  # show first 10 words and scores\n"
   ]
  }
 ],
 "metadata": {
  "kernelspec": {
   "display_name": "base",
   "language": "python",
   "name": "python3"
  },
  "language_info": {
   "codemirror_mode": {
    "name": "ipython",
    "version": 3
   },
   "file_extension": ".py",
   "mimetype": "text/x-python",
   "name": "python",
   "nbconvert_exporter": "python",
   "pygments_lexer": "ipython3",
   "version": "3.12.7"
  }
 },
 "nbformat": 4,
 "nbformat_minor": 5
}
