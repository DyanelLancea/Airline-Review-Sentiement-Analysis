{
 "cells": [
  {
   "cell_type": "code",
   "execution_count": 1,
   "id": "16ebe599",
   "metadata": {},
   "outputs": [
    {
     "name": "stderr",
     "output_type": "stream",
     "text": [
      "[nltk_data] Downloading package vader_lexicon to\n",
      "[nltk_data]     C:\\Users\\jorda\\AppData\\Roaming\\nltk_data...\n",
      "[nltk_data]   Package vader_lexicon is already up-to-date!\n"
     ]
    },
    {
     "name": "stdout",
     "output_type": "stream",
     "text": [
      "              Airlines             Name Date Published  \\\n",
      "0        Qatar Airways     Romana Malik     2025-09-07   \n",
      "1        Qatar Airways           J Raiz     2025-09-02   \n",
      "2        Qatar Airways       Iman Yusuf     2025-09-01   \n",
      "3        Qatar Airways     Ronald Zwart     2025-08-26   \n",
      "4        Qatar Airways  Dmitriy Berezin     2025-08-21   \n",
      "...                ...              ...            ...   \n",
      "14586  Hainan Airlines        J Depaepe     2010-01-19   \n",
      "14587  Hainan Airlines  Pieter D'Hamers     2010-01-10   \n",
      "14588  Hainan Airlines           Y Chen     2010-01-09   \n",
      "14589  Hainan Airlines          A Smith     2009-12-16   \n",
      "14590  Hainan Airlines    Richard Borst     2009-12-11   \n",
      "\n",
      "                                            Text Content  \\\n",
      "0      We choose our seats when booking, and they cha...   \n",
      "1      Initially, I was supposed to be traveling with...   \n",
      "2      I want to sincerely thank Qatar Airways for th...   \n",
      "3      Boarding was efficient, friendly, personable w...   \n",
      "4      When booking, the flight wa shown as a Qsuite ...   \n",
      "...                                                  ...   \n",
      "14586  BRUPEK Business Class. 6 hour delay in Brussel...   \n",
      "14587  BRUPEKBRU. New A330 good and friendly service....   \n",
      "14588  BeijingGuangzhou B737800 in economy. Despite t...   \n",
      "14589  XIY to CTU on Boeing 737800 in Economy. Flight...   \n",
      "14590  Beijing to Xian on Hainan airlines. Very good ...   \n",
      "\n",
      "                                 Text Content Lower Case  \n",
      "0        we choose our seats when booking, and they c...  \n",
      "1          initially, i was supposed to be traveling ...  \n",
      "2          i want to sincerely thank qatar airways fo...  \n",
      "3        boarding was efficient, friendly, personable...  \n",
      "4           when booking, the flight wa shown as a qs...  \n",
      "...                                                  ...  \n",
      "14586  brupek business class. 6 hour delay in brussel...  \n",
      "14587  brupekbru. new a330 good and friendly service....  \n",
      "14588  beijingguangzhou b737800 in economy. despite t...  \n",
      "14589  xiy to ctu on boeing 737800 in economy. flight...  \n",
      "14590  beijing to xian on hainan airlines. very good ...  \n",
      "\n",
      "[14525 rows x 5 columns]\n"
     ]
    }
   ],
   "source": [
    "import pandas as pd\n",
    "import nltk\n",
    "nltk.download('vader_lexicon')\n",
    "from nltk.sentiment.vader import SentimentIntensityAnalyzer\n",
    "\n",
    "sid = SentimentIntensityAnalyzer()\n",
    "from nltk.tokenize import sent_tokenize\n",
    "\n",
    "# Load data\n",
    "url = 'https://raw.githubusercontent.com/DyanelLancea/Airline-Review-Sentiement-Analysis/refs/heads/master/airlines_review.csv'\n",
    "df = pd.read_csv(url, index_col=0)\n",
    "\n",
    "# List of special characters to remove\n",
    "removechar = [ '@', '#', '$', '%', '^', '&', '*', '(', ')',\n",
    "               '-', '_', '=', '+', '{', '}', '[', ']', '|',\n",
    "               '\\\\', ':', ';', '\"', \"'\", '<', '>', '?',\n",
    "                 '/', '~', '`', '✅ Trip Verified', 'Not Verified', 'Â Â', '✅ Verified Review']\n",
    "\n",
    "# Remove duplicates\n",
    "df = df.drop_duplicates()\n",
    "\n",
    "# Replace missing values with NA or Unknown function\n",
    "def replace_missing_value(df):\n",
    "    for col in df.columns:\n",
    "        if df[col].dtype == 'O':  # Object type (string)\n",
    "            df[col] = df[col].fillna('Unknown')\n",
    "        else:\n",
    "            df[col] = df[col].fillna(\"NA\")\n",
    "    return \n",
    "\n",
    "# Remove special characters from specific columns function\n",
    "def remove_special_characters(df, removechar, char):\n",
    "    for char in removechar:\n",
    "        df['Airlines'] = df['Airlines'].str.replace(char, ' ', regex=False)\n",
    "        df['Text Content'] = df['Text Content'].str.replace(char, '', regex=False)\n",
    "    return df\n",
    "\n",
    "# Apply data cleaning functions\n",
    "replace_missing_value(df)\n",
    "remove_special_characters(df, removechar, char='')\n",
    "\n",
    "# Standardize text case\n",
    "df['Airlines'] = df['Airlines'].str.title()\n",
    "df['Name'] = df['Name'].str.title()\n",
    "df['Text Content Lower Case'] = df['Text Content'].str.lower()\n",
    "\n",
    "# Remove leading spaces from the 'Name' column\n",
    "df['Airlines'] = df['Airlines'].str.lstrip()\n",
    "df['Name'] = df['Name'].str.lstrip()\n",
    "df['Date Published'] = df['Date Published'].str.lstrip()\n",
    "df['Text Content'] = df['Text Content'].str.lstrip()\n",
    "\n",
    "# Save cleaned data to a new CSV file\n",
    "df.to_csv('airlines_review_cleaned.csv', index=False)\n",
    "\n",
    "# Display the cleaned DataFrame\n",
    "print(df)\n"
   ]
  },
  {
   "cell_type": "markdown",
   "id": "11dca0a4",
   "metadata": {},
   "source": [
    "### Function to read and parse the AFINN lexicon, then loads it into a dictionary (afinn_dict)"
   ]
  },
  {
   "cell_type": "code",
   "execution_count": 2,
   "id": "83e831f8",
   "metadata": {},
   "outputs": [],
   "source": [
    "import requests\n",
    "\n",
    "def load_afinn_lexicon(afinn_url):\n",
    "    afinn_dict = {} # initialise an empty dictionary to hold the AFINN lexicon\n",
    "    response = requests.get(afinn_url)  # download the file\n",
    "    try:\n",
    "        for line in response.text.splitlines():\n",
    "            line = line.strip()\n",
    "            if not line: # checks for and skips any empty lines in the file\n",
    "                continue\n",
    "            word, score = line.rsplit('\\t', 1) # splits the line into two parts\n",
    "            afinn_dict[word] = int(score) # adds the word and its score to the dict\n",
    "    except FileNotFoundError:\n",
    "        print(f\"File not found: {afinn_url}\")\n",
    "    return afinn_dict\n"
   ]
  },
  {
   "cell_type": "markdown",
   "id": "49b9066c",
   "metadata": {},
   "source": [
    "### Load the AFINN lexicon (provided sentiment dictionary) then print a sample of it"
   ]
  },
  {
   "cell_type": "code",
   "execution_count": 3,
   "id": "5fd5d376",
   "metadata": {},
   "outputs": [
    {
     "name": "stdout",
     "output_type": "stream",
     "text": [
      "AFINN dictionary loaded. Sample entries:\n",
      "[('abandon', -2), ('abandoned', -2), ('abandons', -2), ('abducted', -2), ('abduction', -2), ('abductions', -2), ('abhor', -3), ('abhorred', -3), ('abhorrent', -3), ('abhors', -3)]\n"
     ]
    }
   ],
   "source": [
    "afinn_url = \"https://raw.githubusercontent.com/fnielsen/afinn/master/afinn/data/AFINN-en-165.txt\"\n",
    "afinn_dict = load_afinn_lexicon(afinn_url)\n",
    "\n",
    "print(\"AFINN dictionary loaded. Sample entries:\")\n",
    "print(list(afinn_dict.items())[:10])  # show first 10 words and scores\n"
   ]
  },
  {
   "cell_type": "markdown",
   "id": "d77788de",
   "metadata": {},
   "source": [
    "### Function for sentence tokanization \n",
    "This function takes some text and returns a list of sentences. If you don’t give it a string, it safely returns an empty list instead of crashing."
   ]
  },
  {
   "cell_type": "code",
   "execution_count": 4,
   "id": "6ae96bd4",
   "metadata": {},
   "outputs": [],
   "source": [
    "def tokenize_sentences(text):\n",
    "    if not isinstance(text, str):\n",
    "        return []\n",
    "    return sent_tokenize(text)"
   ]
  },
  {
   "cell_type": "markdown",
   "id": "85552f86",
   "metadata": {},
   "source": [
    "### Function to calculate sentiment and normalization"
   ]
  },
  {
   "cell_type": "code",
   "execution_count": 5,
   "id": "a6035bde",
   "metadata": {},
   "outputs": [],
   "source": [
    "def calculate_sentiment_score(sentences, afinn_dict):\n",
    "    score = 0\n",
    "    words = sentences.lower().split()    # breaks down the sentence into individual words\n",
    "    for word in words:  # goes through each word in the list \n",
    "        score += afinn_dict.get(word, 0)    # looks up each word and adds the score\n",
    "    return score\n",
    "\n",
    "def normalize_score(score, text_length):\n",
    "    if text_length == 0:    # sentences with no words will return a score of 0 (preventing an error of dividing by zero)\n",
    "        return 0\n",
    "    # normalization to get a score per word, then clamping to [-1, 1]\n",
    "    normalized = score / text_length    # calculates the average score per word\n",
    "    return max(-1.0, min(1.0, normalized))  \n",
    "    # makes sure the score doesn't go over 1.0 and below -1.0. \n",
    "    # (if the score is -2.5, this will return -1.0)"
   ]
  },
  {
   "cell_type": "markdown",
   "id": "1feb2cf7",
   "metadata": {},
   "source": [
    "### Function to find the extreme sentences"
   ]
  },
  {
   "cell_type": "code",
   "execution_count": 6,
   "id": "03342e9a",
   "metadata": {},
   "outputs": [],
   "source": [
    "def find_extreme_sentences(sentences, afinn_dict):\n",
    "    \n",
    "    if not sentences:   # to prevent errors if the list is empty\n",
    "        return None, None\n",
    "\n",
    "    # initialises an empty list to hold sentences and their scores\n",
    "    scored_sentences = []\n",
    "    for sent in sentences:\n",
    "        score = calculate_sentiment_score(sent, afinn_dict)     # uses the sentiment score function\n",
    "        normalized_score = normalize_score(score, len(sent.split()))    # uses the normalization function\n",
    "        scored_sentences.append({'sentence': sent, 'score': normalized_score})\n",
    "\n",
    "    # find the sentences with max and min normalized scores\n",
    "    most_positive = max(scored_sentences, key=lambda x: x['score'])\n",
    "    most_negative = min(scored_sentences, key=lambda x: x['score'])\n",
    "    \n",
    "    return most_positive, most_negative"
   ]
  },
  {
   "cell_type": "markdown",
   "id": "87c05a78",
   "metadata": {},
   "source": [
    "### Sliding Window Function to find the most positive and negative paragraphs.\n",
    "\n",
    "Using a window size lets us \"slide\" a focus area over the text. The window's score changes as it moves, so it can detect specific pockets of strong emotion(positive/negative).\n",
    "\n",
    "When the window is over a section with very positive sentences, it will get a high score. When it slides over the negative section, it will get a very low score.\n",
    "\n",
    "This give us a much more detailed and accurate picture of the sentiment throughout the text. It helps us pinpoint exactly where the most positive and negative opinions are located, rather than just getting a single, overall average."
   ]
  },
  {
   "cell_type": "code",
   "execution_count": null,
   "id": "26728f44",
   "metadata": {},
   "outputs": [],
   "source": [
    "def sliding_window_analysis_words(text, afinn_dict, window_size=10):\n",
    "    \"\"\"\n",
    "    Applies a sliding window to find the most positive and negative text segments,\n",
    "    based on a word-level window size.\n",
    "    \n",
    "    Args:\n",
    "        text (str): The full text to analyze.\n",
    "        afinn_dict (dict): The AFINN sentiment lexicon.\n",
    "        window_size (int): The number of words to include in each window.\n",
    "\n",
    "    Returns:\n",
    "        tuple: A tuple containing the most positive and most negative paragraphs.\n",
    "    \"\"\"\n",
    "    if not text:\n",
    "        return None, None\n",
    "        \n",
    "    words = text.lower().split()\n",
    "    if len(words) < window_size:\n",
    "        return None, None\n",
    "    \n",
    "    scored_windows = []\n",
    "    # Slide the window across the words\n",
    "    for i in range(len(words) - window_size + 1):\n",
    "        window = words[i:i + window_size]\n",
    "        paragraph_text = ' '.join(window)\n",
    "        \n",
    "        # Calculate score for the paragraph window\n",
    "        score = calculate_sentiment_score(paragraph_text, afinn_dict)\n",
    "        normalized_score = normalize_score(score, len(paragraph_text.split()))\n",
    "\n",
    "        scored_windows.append({'paragraph': paragraph_text, 'score': normalized_score})\n",
    "\n",
    "    if not scored_windows:\n",
    "        return None, None\n",
    "\n",
    "    # Find the paragraphs with max and min scores\n",
    "    most_positive_paragraph = max(scored_windows, key=lambda x: x['score'])\n",
    "    most_negative_paragraph = min(scored_windows, key=lambda x: x['score'])\n",
    "    \n",
    "    return most_positive_paragraph, most_negative_paragraph\n",
    "\n"
   ]
  },
  {
   "cell_type": "markdown",
   "id": "3d0820f4",
   "metadata": {},
   "source": [
    "Test"
   ]
  },
  {
   "cell_type": "code",
   "execution_count": 8,
   "id": "909b1b67",
   "metadata": {},
   "outputs": [],
   "source": [
    "#Apply tonkenize function into Dataframe\n",
    "df['Text Content Tokenized'] = df['Text Content'].apply(tokenize_sentences)\n",
    "#Apply Sentiment scoring function into Dataframe\n",
    "df['Sentiment Score'] = df.apply(lambda x: calculate_sentiment_score(x['Text Content'],afinn_dict), axis=1)\n",
    "#Apply normalize function to Dataframe\n",
    "df['Normalized Sentiment Score'] = df.apply(lambda x: normalize_score(x['Sentiment Score'],len(x[\"Text Content\"].split())), axis=1)\n",
    "#Apply finding extreme sentences function to Dataframe\n",
    "df['Extreme Senctences'] = df.apply(lambda x: find_extreme_sentences(x['Text Content Tokenized'],afinn_dict), axis=1)\n",
    "#Creating Columns for Most and Least Extreme Sentences\n",
    "df['Most Positive Senctence'] = df['Extreme Senctences'].apply(lambda x: x[0]['sentence'])\n",
    "df['Most Positive Senctence Score'] = df['Extreme Senctences'].apply(lambda x: x[0]['score'])\n",
    "df['Most Negative Senctence'] = df['Extreme Senctences'].apply(lambda x: x[1]['sentence'])\n",
    "df['Most Negative Senctence Score'] = df['Extreme Senctences'].apply(lambda x: x[1]['score'])"
   ]
  },
  {
   "cell_type": "markdown",
   "id": "c6ff132b",
   "metadata": {},
   "source": [
    "### Results and Insights\n",
    "\n",
    "This calculates the mean normalized sentiment score for each airline and visualizes the results using a horizontal bar chart.\n"
   ]
  },
  {
   "cell_type": "code",
   "execution_count": 9,
   "id": "0e9b0702",
   "metadata": {},
   "outputs": [
    {
     "data": {
      "image/png": "[encoded data removed]",
      "text/plain": [
       "<Figure size 640x480 with 1 Axes>"
      ]
     },
     "metadata": {},
     "output_type": "display_data"
    }
   ],
   "source": [
    "import matplotlib.pyplot as plt\n",
    "df_mean =  df.groupby('Airlines')['Normalized Sentiment Score'].agg('mean').sort_values() \n",
    "\n",
    "fig, ax = plt.subplots()\n",
    "\n",
    "bx = ax.barh(df_mean.index, df_mean.values,label=df_mean.values)\n",
    "ax.bar_label(bx, fmt='%.4f')\n",
    "ax.set_title('Average Sentiment Score by Airline')\n",
    "\n",
    "plt.show()"
   ]
  },
  {
   "cell_type": "markdown",
   "id": "c1b93a58",
   "metadata": {},
   "source": [
    "This generates a boxplot to compare the spread and distribution of normalized sentiment scores across different airlines."
   ]
  },
  {
   "cell_type": "code",
   "execution_count": 10,
   "id": "78ac6eca",
   "metadata": {},
   "outputs": [
    {
     "data": {
      "text/plain": [
       "Text(0.5, 1.0, 'Boxplot of Sentment Scores by Airline')"
      ]
     },
     "execution_count": 10,
     "metadata": {},
     "output_type": "execute_result"
    },
    {
     "data": {
      "image/png": "[encoded data removed]",
      "text/plain": [
       "<Figure size 640x480 with 1 Axes>"
      ]
     },
     "metadata": {},
     "output_type": "display_data"
    }
   ],
   "source": [
    "ax = df.boxplot(column='Normalized Sentiment Score',by='Airlines',rot=90,grid=False)\n",
    "ax.set_title('Boxplot of Sentment Scores by Airline')"
   ]
  },
  {
   "cell_type": "code",
   "execution_count": 11,
   "id": "e50463f9",
   "metadata": {},
   "outputs": [
    {
     "name": "stderr",
     "output_type": "stream",
     "text": [
      "[nltk_data] Downloading package punkt_tab to\n",
      "[nltk_data]     C:\\Users\\jorda\\AppData\\Roaming\\nltk_data...\n",
      "[nltk_data]   Package punkt_tab is already up-to-date!\n"
     ]
    },
    {
     "name": "stdout",
     "output_type": "stream",
     "text": [
      " * Serving Flask app '__main__'\n",
      " * Debug mode: on\n"
     ]
    },
    {
     "name": "stderr",
     "output_type": "stream",
     "text": [
      "WARNING: This is a development server. Do not use it in a production deployment. Use a production WSGI server instead.\n",
      " * Running on http://127.0.0.1:5002\n",
      "Press CTRL+C to quit\n",
      "127.0.0.1 - - [22/Sep/2025 15:40:49] \"GET / HTTP/1.1\" 200 -\n",
      "127.0.0.1 - - [22/Sep/2025 15:40:53] \"POST / HTTP/1.1\" 200 -\n"
     ]
    }
   ],
   "source": [
    "from flask import Flask, render_template_string, request\n",
    "import pandas as pd\n",
    "import requests\n",
    "from io import StringIO\n",
    "nltk.download('punkt_tab')\n",
    "\n",
    "app = Flask(__name__)\n",
    "\n",
    "# URL of the CSV file\n",
    "#url = 'https://raw.githubusercontent.com/DyanelLancea/Airline-Review-Sentiement-Analysis/refs/heads/master/airlines_review.csv'\n",
    "\n",
    "# Fetch and load the CSV data\n",
    "response = requests.get(url)\n",
    "csv_data = StringIO(response.text)\n",
    "#df = pd.read_csv(csv_data)\n",
    "\n",
    "from nltk.tokenize import sent_tokenize\n",
    "\n",
    "# Apply AFINN sentiment analysis\n",
    "df[\"sentiment_score\"] = df[\"Text Content Lower Case\"].apply(\n",
    "    lambda x: normalize_score(\n",
    "        calculate_sentiment_score(str(x), afinn_dict),\n",
    "        len(str(x).split())\n",
    "    )\n",
    ")\n",
    "\n",
    "# Convert 'Date' column to datetime to facilitate month selection\n",
    "df['Date Published'] = pd.to_datetime(df['Date Published'])\n",
    "\n",
    "# Extract available airlines and months for the dropdowns\n",
    "airlines = df['Airlines'].unique().tolist()\n",
    "months = df['Date Published'].dt.month_name().unique().tolist()\n",
    "\n",
    "df['Text Content Tokenized'] = df['Text Content'].apply(tokenize_sentences)\n",
    "\n",
    "#Apply tonkenize function into Dataframe   \n",
    "df['Text Content Tokenized'] = df['Text Content'].apply(tokenize_sentences)\n",
    "#Apply Sentiment scoring function into Dataframe\n",
    "df['Sentiment Score'] = df.apply(lambda x: calculate_sentiment_score(x['Text Content'],afinn_dict), axis=1)\n",
    "#Apply normaalize function to Dataframe\n",
    "df['Normalized Sentiment Score'] = df.apply(lambda x: normalize_score(x['Sentiment Score'],len(x[\"Text Content\"].split())), axis=1)#Apply tonkenize function into Dataframe\n",
    "df['Text Content Tokenized'] = df['Text Content'].apply(tokenize_sentences)\n",
    "#Apply Sentiment scoring function into Dataframe\n",
    "df['Sentiment Score'] = df.apply(lambda x: calculate_sentiment_score(x['Text Content'],afinn_dict), axis=1)\n",
    "#Apply normaalize function to Dataframe\n",
    "df['Normalized Sentiment Score'] = df.apply(lambda x: normalize_score(x['Sentiment Score'],len(x[\"Text Content\"].split())), axis=1)\n",
    "\n",
    "@app.route('/', methods=['GET', 'POST'])\n",
    "def index():\n",
    "    selected_airline = None\n",
    "    selected_month = None\n",
    "    t_reviews = []\n",
    "    b_reviews = []\n",
    "    positive_window = None\n",
    "    negative_window = None\n",
    "\n",
    "    if request.method == 'POST':\n",
    "        selected_airline = request.form.get('airline')\n",
    "        selected_month = request.form.get('month')\n",
    "\n",
    "        if selected_airline and selected_month:\n",
    "            # Filter reviews based on selected airline and month\n",
    "            filtered_df = df[(df['Airlines'] == selected_airline) &\n",
    "                             (df['Date Published'].dt.month_name() == selected_month)]\n",
    "        \n",
    "            # Sort the filtered DataFrame by 'Normalized Sentiment Score' in descending order\n",
    "            top_reviews_df = filtered_df.sort_values(by='Sentiment Score', ascending=False)\n",
    "            bottom_reviews_df = filtered_df.sort_values(by='Sentiment Score', ascending = False)\n",
    "\n",
    "            # Select the top 3 reviews based on the highest sentiment score\n",
    "            top_reviews = top_reviews_df.head(3)\n",
    "            bottom_reviews = bottom_reviews_df.tail(3)\n",
    "\n",
    "            # Store the reviews with the highest sentiment scores\n",
    "            t_reviews = top_reviews[['Text Content', 'Sentiment Score']].values.tolist()\n",
    "            b_reviews = bottom_reviews[['Text Content', 'Sentiment Score']].values.tolist()\n",
    "\n",
    "            all_text = ' '.join(filtered_df['Text Content'].dropna().astype(str).tolist())\n",
    "\n",
    "            pos, neg = sliding_window_analysis_words(all_text, afinn_dict, window_size=10)\n",
    "\n",
    "            positive_window = pos  # {'paragraph': ..., 'score': ...}\n",
    "            negative_window = neg\n",
    "\n",
    "    # HTML template directly in the Python code using render_template_string\n",
    "    html_content = '''\n",
    "        <!DOCTYPE html>\n",
    "        <html lang=\"en\">\n",
    "        <head>\n",
    "            <meta charset=\"UTF-8\">\n",
    "            <meta name=\"viewport\" content=\"width=device-width, initial-scale=1.0\">\n",
    "            <title>Airline Reviews</title>\n",
    "            <style>\n",
    "                .review-list {\n",
    "                    font-size: 10px;\n",
    "                    line-height: 1.5;\n",
    "                    font-family: Arial, sans-serif;\n",
    "                }\n",
    "\n",
    "                .review-list li {\n",
    "                    margin-bottom: 10px;\n",
    "                }\n",
    "\n",
    "                .review-header {\n",
    "                    font-size: 18px;\n",
    "                    font-weight: bold;\n",
    "                    margin-bottom: 10px;\n",
    "                }\n",
    "\n",
    "                /* Style the sentiment score section */\n",
    "                .score {\n",
    "                    color: #007BFF;\n",
    "                    font-weight: bold;\n",
    "                }\n",
    "\n",
    "                /* Add some padding and style for form */\n",
    "                form {\n",
    "                    margin-bottom: 20px;\n",
    "                }\n",
    "\n",
    "                label {\n",
    "                    font-weight: bold;\n",
    "                    margin-right: 10px;\n",
    "                }\n",
    "\n",
    "                select, button {\n",
    "                    margin: 5px 10px;\n",
    "                }\n",
    "\n",
    "            </style>\n",
    "        </head>\n",
    "        <body>\n",
    "            <h1>Airline Review Sentiment Analysis</h1>\n",
    "\n",
    "            <form method=\"POST\">\n",
    "                <label for=\"airline\">Select Airline:</label>\n",
    "                <select name=\"airline\" id=\"airline\" required>\n",
    "                    <option value=\"\">--Select Airline--</option>\n",
    "                    {% for airline in airlines %}\n",
    "                        <option value=\"{{ airline }}\" {% if airline == selected_airline %}selected{% endif %}>{{ airline }}</option>\n",
    "                    {% endfor %}\n",
    "                </select>\n",
    "\n",
    "                <label for=\"month\">Select Month:</label>\n",
    "                <select name=\"month\" id=\"month\" required>\n",
    "                    <option value=\"\">--Select Month--</option>\n",
    "                    {% for month in months %}\n",
    "                        <option value=\"{{ month }}\" {% if month == selected_month %}selected{% endif %}>{{ month }}</option>\n",
    "                    {% endfor %}\n",
    "                </select>\n",
    "\n",
    "                <button type=\"submit\">Filter Reviews</button>\n",
    "            </form>\n",
    "\n",
    "            <hr>\n",
    "\n",
    "            {% if t_reviews %}\n",
    "                <h2 class=\"review-header\">Top Reviews for {{ selected_airline }} in {{ selected_month }}:</h2>\n",
    "                <div class=\"review-list\">\n",
    "                    <ul>\n",
    "                        {% for t_reviews, score in t_reviews %}\n",
    "                            <li>\n",
    "                                <p><strong>Review:</strong> {{ t_reviews }}</p>\n",
    "                                <p><strong>Score:</strong> <span class=\"score\">{{ score }}</span></p>\n",
    "                            </li>\n",
    "                        {% endfor %}\n",
    "                    </ul>\n",
    "                </div>\n",
    "             {% endif %}   \n",
    "            \n",
    "             {% if b_reviews %}\n",
    "                <h2 class=\"review-header\">Lowest Reviews for {{ selected_airline }} in {{ selected_month }}:</h2>\n",
    "                <div class=\"review-list\">\n",
    "                    <ul>\n",
    "                        {% for b_reviews, score in b_reviews %}\n",
    "                            <li>\n",
    "                                <p><strong>Review:</strong> {{ b_reviews }}</p>\n",
    "                                <p><strong>Score:</strong> <span class=\"score\">{{ score }}</span></p>\n",
    "                            </li>\n",
    "                        {% endfor %}\n",
    "                    </ul>\n",
    "                </div>\n",
    "            {% endif %}\n",
    "            {% if not t_reviews and not b_reviews %}\n",
    "                <p>No reviews found for the selected filters.</p>\n",
    "            {% endif %}\n",
    "\n",
    "             {% if positive_window %}\n",
    "                <h2 class=\"review-header\">Most Positive Text Segment (Sliding Window):</h2>\n",
    "                <p><strong>Text:</strong> {{ positive_window.paragraph }}</p>\n",
    "                <p><strong>Score:</strong> <span class=\"score\">{{ positive_window.score }}</span></p>\n",
    "            {% endif %}\n",
    "\n",
    "            {% if negative_window %}\n",
    "                <h2 class=\"review-header\">Most Negative Text Segment (Sliding Window):</h2>\n",
    "                <p><strong>Text:</strong> {{ negative_window.paragraph }}</p>\n",
    "                <p><strong>Score:</strong> <span class=\"score\">{{ negative_window.score }}</span></p>\n",
    "            {% endif %}\n",
    "        </body>\n",
    "        </html>\n",
    "        '''\n",
    "    \n",
    "    return render_template_string(html_content, airlines=airlines, months=months, t_reviews=t_reviews, b_reviews=b_reviews, selected_airline=selected_airline, selected_month=selected_month, positive_window=positive_window,\n",
    "        negative_window=negative_window)\n",
    "\n",
    "if __name__ == \"__main__\":\n",
    "    app.run(debug=True, host='127.0.0.1', port=5002, use_reloader=False)\n"
   ]
  },
  {
   "cell_type": "code",
   "execution_count": null,
   "id": "523b0e5d",
   "metadata": {},
   "outputs": [],
   "source": []
  }
 ],
 "metadata": {
  "kernelspec": {
   "display_name": "Python 3",
   "language": "python",
   "name": "python3"
  },
  "language_info": {
   "codemirror_mode": {
    "name": "ipython",
    "version": 3
   },
   "file_extension": ".py",
   "mimetype": "text/x-python",
   "name": "python",
   "nbconvert_exporter": "python",
   "pygments_lexer": "ipython3",
   "version": "3.13.7"
  }
 },
 "nbformat": 4,
 "nbformat_minor": 5
}
